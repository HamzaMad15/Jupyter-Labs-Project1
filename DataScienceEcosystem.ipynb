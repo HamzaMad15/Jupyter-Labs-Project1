{
 "cells": [
  {
   "cell_type": "markdown",
   "id": "8d16fdf2-92f6-45b3-8b14-96e4d57d58e9",
   "metadata": {
    "tags": []
   },
   "source": [
    "# Data Science Tools and Ecosystem"
   ]
  },
  {
   "cell_type": "markdown",
   "id": "dae0123d-8487-4fbf-b132-822985348fb6",
   "metadata": {},
   "source": [
    "In this notebook, Data Science Tools and Ecosystem are summarized."
   ]
  },
  {
   "cell_type": "markdown",
   "id": "04bd835a-5bff-4fd7-97f0-1371f7b22c49",
   "metadata": {},
   "source": [
    "Objectives:\n",
    "- Popular Languages\n",
    "- Commonly Used Libraries\n",
    "- Data Science Tools\n",
    "- Arithmetic expressions in Python"
   ]
  },
  {
   "cell_type": "markdown",
   "id": "a2163b23-09d2-4630-943e-6861835f591a",
   "metadata": {},
   "source": [
    "Some of the popular languages that Data Scientists use are:\n",
    "1. Python\n",
    "2. R\n",
    "3. SQL"
   ]
  },
  {
   "cell_type": "markdown",
   "id": "e936d09b-d26b-45ff-9e5f-06f930658984",
   "metadata": {
    "tags": []
   },
   "source": [
    "Some of the commonly used libraries used by Data Scientist include:\n",
    "1. NumPy\n",
    "2. Pandas\n",
    "3. Keras\n"
   ]
  },
  {
   "cell_type": "markdown",
   "id": "d0c49925-368a-4481-94a5-93294cf8aca0",
   "metadata": {},
   "source": [
    "| Data Science Tools |\n",
    "|------------------- |\n",
    "|   Apache Spark     |\n",
    "|   Apache Hadoop    |\n",
    "|   Tensor Flow      |"
   ]
  },
  {
   "cell_type": "markdown",
   "id": "a7165a91-599d-4150-8bce-7a43f4c08bd6",
   "metadata": {},
   "source": [
    " ### Below are a few examples of evaluating arithmetic expressions in Python"
   ]
  },
  {
   "cell_type": "code",
   "execution_count": 10,
   "id": "764da275-fe4a-42db-bfda-5c0eb2697bc5",
   "metadata": {
    "tags": []
   },
   "outputs": [
    {
     "data": {
      "text/plain": [
       "17"
      ]
     },
     "execution_count": 10,
     "metadata": {},
     "output_type": "execute_result"
    }
   ],
   "source": [
    "# This is a simple arithmetic expression to multiply then add integers\n",
    "(3*4)+5"
   ]
  },
  {
   "cell_type": "code",
   "execution_count": 12,
   "id": "c16b33a5-f184-4989-9b0a-ca237ecf2c3d",
   "metadata": {
    "tags": []
   },
   "outputs": [
    {
     "data": {
      "text/plain": [
       "3.3333333333333335"
      ]
     },
     "execution_count": 12,
     "metadata": {},
     "output_type": "execute_result"
    }
   ],
   "source": [
    "# This will convert 200 minutes to hours by dividing 60\n",
    "200/60"
   ]
  },
  {
   "cell_type": "markdown",
   "id": "29c73833-2077-4a33-8ee0-9795d1f4d087",
   "metadata": {},
   "source": [
    "## Author\n",
    "   HamzaMad"
   ]
  }
 ],
 "metadata": {
  "kernelspec": {
   "display_name": "Python",
   "language": "python",
   "name": "conda-env-python-py"
  },
  "language_info": {
   "codemirror_mode": {
    "name": "ipython",
    "version": 3
   },
   "file_extension": ".py",
   "mimetype": "text/x-python",
   "name": "python",
   "nbconvert_exporter": "python",
   "pygments_lexer": "ipython3",
   "version": "3.7.12"
  }
 },
 "nbformat": 4,
 "nbformat_minor": 5
}
